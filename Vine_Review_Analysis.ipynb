{
  "nbformat": 4,
  "nbformat_minor": 0,
  "metadata": {
    "colab": {
      "name": "Vine_Review_Analysis.ipynb",
      "provenance": [],
      "authorship_tag": "ABX9TyOvQ62+p5K4P4J1FDa9MswM",
      "include_colab_link": true
    },
    "kernelspec": {
      "name": "python3",
      "display_name": "Python 3"
    }
  },
  "cells": [
    {
      "cell_type": "markdown",
      "metadata": {
        "id": "view-in-github",
        "colab_type": "text"
      },
      "source": [
        "<a href=\"https://colab.research.google.com/github/toainn92/Amazon_Vine_Analysis/blob/main/Vine_Review_Analysis.ipynb\" target=\"_parent\"><img src=\"https://colab.research.google.com/assets/colab-badge.svg\" alt=\"Open In Colab\"/></a>"
      ]
    },
    {
      "cell_type": "code",
      "metadata": {
        "colab": {
          "base_uri": "https://localhost:8080/"
        },
        "id": "fMsNSub4EhP5",
        "outputId": "84552587-3639-43e4-d900-aac6a7507d7d"
      },
      "source": [
        "import os\r\n",
        "# Find the latest version of spark 2.0  from http://www-us.apache.org/dist/spark/ and enter as the spark version\r\n",
        "# For example:\r\n",
        "# spark_version = 'spark-3.0.0'\r\n",
        "spark_version = 'spark-3.0.1'\r\n",
        "os.environ['SPARK_VERSION']=spark_version\r\n",
        "\r\n",
        "# Install Spark and Java\r\n",
        "!apt-get update\r\n",
        "!apt-get install openjdk-11-jdk-headless -qq > /dev/null\r\n",
        "!wget -q http://www-us.apache.org/dist/spark/$SPARK_VERSION/$SPARK_VERSION-bin-hadoop2.7.tgz\r\n",
        "!tar xf $SPARK_VERSION-bin-hadoop2.7.tgz\r\n",
        "!pip install -q findspark\r\n",
        "\r\n",
        "# Set Environment Variables\r\n",
        "import os\r\n",
        "os.environ[\"JAVA_HOME\"] = \"/usr/lib/jvm/java-11-openjdk-amd64\"\r\n",
        "os.environ[\"SPARK_HOME\"] = f\"/content/{spark_version}-bin-hadoop2.7\"\r\n",
        "\r\n",
        "# Start a SparkSession\r\n",
        "import findspark\r\n",
        "findspark.init()"
      ],
      "execution_count": 1,
      "outputs": [
        {
          "output_type": "stream",
          "text": [
            "Ign:1 https://developer.download.nvidia.com/compute/cuda/repos/ubuntu1804/x86_64  InRelease\n",
            "Get:2 https://cloud.r-project.org/bin/linux/ubuntu bionic-cran40/ InRelease [3,626 B]\n",
            "Hit:3 http://archive.ubuntu.com/ubuntu bionic InRelease\n",
            "Get:4 http://security.ubuntu.com/ubuntu bionic-security InRelease [88.7 kB]\n",
            "Get:5 http://ppa.launchpad.net/c2d4u.team/c2d4u4.0+/ubuntu bionic InRelease [15.9 kB]\n",
            "Ign:6 https://developer.download.nvidia.com/compute/machine-learning/repos/ubuntu1804/x86_64  InRelease\n",
            "Get:7 https://developer.download.nvidia.com/compute/cuda/repos/ubuntu1804/x86_64  Release [697 B]\n",
            "Hit:8 https://developer.download.nvidia.com/compute/machine-learning/repos/ubuntu1804/x86_64  Release\n",
            "Get:9 https://developer.download.nvidia.com/compute/cuda/repos/ubuntu1804/x86_64  Release.gpg [836 B]\n",
            "Get:10 http://archive.ubuntu.com/ubuntu bionic-updates InRelease [88.7 kB]\n",
            "Hit:11 http://ppa.launchpad.net/cran/libgit2/ubuntu bionic InRelease\n",
            "Get:12 http://archive.ubuntu.com/ubuntu bionic-backports InRelease [74.6 kB]\n",
            "Hit:13 http://ppa.launchpad.net/graphics-drivers/ppa/ubuntu bionic InRelease\n",
            "Ign:15 https://developer.download.nvidia.com/compute/cuda/repos/ubuntu1804/x86_64  Packages\n",
            "Get:15 https://developer.download.nvidia.com/compute/cuda/repos/ubuntu1804/x86_64  Packages [548 kB]\n",
            "Get:16 http://ppa.launchpad.net/c2d4u.team/c2d4u4.0+/ubuntu bionic/main Sources [1,715 kB]\n",
            "Get:17 http://security.ubuntu.com/ubuntu bionic-security/main amd64 Packages [1,890 kB]\n",
            "Get:18 http://archive.ubuntu.com/ubuntu bionic-updates/universe amd64 Packages [2,148 kB]\n",
            "Get:19 http://security.ubuntu.com/ubuntu bionic-security/universe amd64 Packages [1,381 kB]\n",
            "Get:20 http://ppa.launchpad.net/c2d4u.team/c2d4u4.0+/ubuntu bionic/main amd64 Packages [878 kB]\n",
            "Get:21 http://archive.ubuntu.com/ubuntu bionic-updates/main amd64 Packages [2,310 kB]\n",
            "Fetched 11.1 MB in 3s (3,503 kB/s)\n",
            "Reading package lists... Done\n"
          ],
          "name": "stdout"
        }
      ]
    },
    {
      "cell_type": "code",
      "metadata": {
        "colab": {
          "base_uri": "https://localhost:8080/"
        },
        "id": "qYCO5O5nExjl",
        "outputId": "6d1d7950-e57b-40ef-93ac-31c349da286e"
      },
      "source": [
        "# Download the Postgres driver that will allow Spark to interact with Postgres.\r\n",
        "!wget https://jdbc.postgresql.org/download/postgresql-42.2.16.jar"
      ],
      "execution_count": 2,
      "outputs": [
        {
          "output_type": "stream",
          "text": [
            "--2021-01-20 04:35:11--  https://jdbc.postgresql.org/download/postgresql-42.2.16.jar\n",
            "Resolving jdbc.postgresql.org (jdbc.postgresql.org)... 72.32.157.228, 2001:4800:3e1:1::228\n",
            "Connecting to jdbc.postgresql.org (jdbc.postgresql.org)|72.32.157.228|:443... connected.\n",
            "HTTP request sent, awaiting response... 200 OK\n",
            "Length: 1002883 (979K) [application/java-archive]\n",
            "Saving to: ‘postgresql-42.2.16.jar’\n",
            "\n",
            "postgresql-42.2.16. 100%[===================>] 979.38K  --.-KB/s    in 0.1s    \n",
            "\n",
            "2021-01-20 04:35:11 (6.60 MB/s) - ‘postgresql-42.2.16.jar’ saved [1002883/1002883]\n",
            "\n"
          ],
          "name": "stdout"
        }
      ]
    },
    {
      "cell_type": "code",
      "metadata": {
        "id": "yCEwdlSGE9Nq"
      },
      "source": [
        "from pyspark.sql import SparkSession\r\n",
        "spark = SparkSession.builder.appName(\"BigData-Challenge\").config(\"spark.driver.extraClassPath\",\"/content/postgresql-42.2.16.jar\").getOrCreate()"
      ],
      "execution_count": 3,
      "outputs": []
    },
    {
      "cell_type": "code",
      "metadata": {
        "colab": {
          "base_uri": "https://localhost:8080/"
        },
        "id": "TpQuPgT9E_C1",
        "outputId": "ce5df3b5-ec1c-4958-d36a-e3d950c87204"
      },
      "source": [
        "from pyspark import SparkFiles\r\n",
        "url = \"https://s3.amazonaws.com/amazon-reviews-pds/tsv/amazon_reviews_us_Digital_Video_Games_v1_00.tsv.gz\"\r\n",
        "spark.sparkContext.addFile(url)\r\n",
        "df = spark.read.option(\"encoding\", \"UTF-8\").csv(SparkFiles.get(\"amazon_reviews_us_Digital_Video_Games_v1_00.tsv.gz\"), sep=\"\\t\", header=True, inferSchema=True)\r\n",
        "df.show()"
      ],
      "execution_count": 4,
      "outputs": [
        {
          "output_type": "stream",
          "text": [
            "+-----------+-----------+--------------+----------+--------------+--------------------+-------------------+-----------+-------------+-----------+----+-----------------+--------------------+--------------------+-----------+\n",
            "|marketplace|customer_id|     review_id|product_id|product_parent|       product_title|   product_category|star_rating|helpful_votes|total_votes|vine|verified_purchase|     review_headline|         review_body|review_date|\n",
            "+-----------+-----------+--------------+----------+--------------+--------------------+-------------------+-----------+-------------+-----------+----+-----------------+--------------------+--------------------+-----------+\n",
            "|         US|   21269168| RSH1OZ87OYK92|B013PURRZW|     603406193|Madden NFL 16 - X...|Digital_Video_Games|          2|            2|          3|   N|                N|A slight improvem...|I keep buying mad...| 2015-08-31|\n",
            "|         US|     133437|R1WFOQ3N9BO65I|B00F4CEHNK|     341969535| Xbox Live Gift Card|Digital_Video_Games|          5|            0|          0|   N|                Y|          Five Stars|             Awesome| 2015-08-31|\n",
            "|         US|   45765011| R3YOOS71KM5M9|B00DNHLFQA|     951665344|Command & Conquer...|Digital_Video_Games|          5|            0|          0|   N|                Y|Hail to the great...|If you are preppi...| 2015-08-31|\n",
            "|         US|     113118|R3R14UATT3OUFU|B004RMK5QG|     395682204|Playstation Plus ...|Digital_Video_Games|          5|            0|          0|   N|                Y|          Five Stars|             Perfect| 2015-08-31|\n",
            "|         US|   22151364| RV2W9SGDNQA2C|B00G9BNLQE|     640460561|Saints Row IV - E...|Digital_Video_Games|          5|            0|          0|   N|                Y|          Five Stars|            Awesome!| 2015-08-31|\n",
            "|         US|   22151364|R3CFKLIZ0I2KOB|B00IMIL498|     621922192|Double Dragon: Ne...|Digital_Video_Games|          5|            0|          0|   N|                Y|          Five Stars|            Awesome!| 2015-08-31|\n",
            "|         US|   38426028|R1LRYU1V0T3O38|B00S00IJH8|     215163395|              Sims 4|Digital_Video_Games|          4|            0|          0|   N|                Y|i like the new sk...|i like the new sk...| 2015-08-31|\n",
            "|         US|    6057518| R44QKV6FE5CJ2|B004RMK4BC|     384246568|Playstation Netwo...|Digital_Video_Games|          5|            0|          0|   N|                Y|          Five Stars|               Super| 2015-08-31|\n",
            "|         US|   20715661|R2TX1KLPXXXNYS|B00K59HKIQ|     384246568|Playstation Netwo...|Digital_Video_Games|          5|            0|          0|   N|                Y|         Easy & Fast|Excellent, fast a...| 2015-08-31|\n",
            "|         US|   26540306|R1JEEW4C6R89BA|B00K59HKIQ|     384246568|Playstation Netwo...|Digital_Video_Games|          5|            0|          0|   N|                Y|          Five Stars|                  Ok| 2015-08-31|\n",
            "|         US|    8926809|R3B3UHK1FO0ERS|B004774IPU|     151985175|Sid Meier's Civil...|Digital_Video_Games|          1|            0|          0|   N|                N|I am still playin...|As has been writt...| 2015-08-31|\n",
            "|         US|   31525534|R2GVSDHW513SS1|B002LIT9EC|     695277014|Build-a-lot 4: Po...|Digital_Video_Games|          5|            0|          0|   N|                Y|Probably the best...|Probably the best...| 2015-08-31|\n",
            "|         US|   22151364|R1R1NT516PYT73|B008ALUBYQ|     112160022|       Borderlands 2|Digital_Video_Games|          5|            0|          0|   N|                Y|          Five Stars|            Awesome!| 2015-08-31|\n",
            "|         US|   22977584|R3K624QDQKENN9|B010KYDNDG|     835376637|Minecraft for PC/...|Digital_Video_Games|          4|            0|          0|   N|                Y|                 FUN|COOL BUT IT LAGES...| 2015-08-31|\n",
            "|         US|   45765011| R1FOXH7PCJX3V|B008ALUBYQ|     112160022|       Borderlands 2|Digital_Video_Games|          1|            0|          2|   N|                Y|            One Star|Lames purchase I ...| 2015-08-31|\n",
            "|         US|    2239522| RA1246M1OMDWC|B004RMK4P8|     384246568|Playstation Netwo...|Digital_Video_Games|          5|            0|          0|   N|                Y|          Five Stars|               Great| 2015-08-31|\n",
            "|         US|   48805811|R2I9SXWB0PAEKQ|B004RMK5QG|     395682204|Playstation Plus ...|Digital_Video_Games|          5|            0|          0|   N|                Y|          Five Stars|          Awesome!!!| 2015-08-31|\n",
            "|         US|   18646481|R3UGL544NA0G9C|B00BI16Z22|     552981447|Brink of Consciou...|Digital_Video_Games|          4|            0|          0|   N|                Y|       worth playing|pretty good but n...| 2015-08-31|\n",
            "|         US|   10310935|R1CBA4Y92GVAVM|B004VSTQ2A|     232803743|Xbox Live Subscri...|Digital_Video_Games|          5|            0|          0|   N|                Y|          Five Stars|What can I say......| 2015-08-31|\n",
            "|         US|    5587610|R24NEKNR01VEHU|B00GAC1D2G|     384246568|Playstation Netwo...|Digital_Video_Games|          5|            0|          0|   N|                Y|        Just amazing|Very fast to rece...| 2015-08-31|\n",
            "+-----------+-----------+--------------+----------+--------------+--------------------+-------------------+-----------+-------------+-----------+----+-----------------+--------------------+--------------------+-----------+\n",
            "only showing top 20 rows\n",
            "\n"
          ],
          "name": "stdout"
        }
      ]
    },
    {
      "cell_type": "code",
      "metadata": {
        "id": "jza90zUeFaty"
      },
      "source": [
        "from pyspark.sql.functions import to_date\r\n",
        "# Read in the Review dataset as a DataFrame"
      ],
      "execution_count": 5,
      "outputs": []
    },
    {
      "cell_type": "code",
      "metadata": {
        "colab": {
          "base_uri": "https://localhost:8080/"
        },
        "id": "VPujxu7JFpzE",
        "outputId": "645e1ba8-09d8-4a81-d1aa-cfa381745e71"
      },
      "source": [
        "#create vine_table Dataframe\r\n",
        "\r\n",
        "vine_df= df.select(['review_id', 'star_rating', 'helpful_votes', 'total_votes', 'vine', 'verified_purchase']).drop_duplicates()\r\n",
        "vine_df.show()"
      ],
      "execution_count": 6,
      "outputs": [
        {
          "output_type": "stream",
          "text": [
            "+--------------+-----------+-------------+-----------+----+-----------------+\n",
            "|     review_id|star_rating|helpful_votes|total_votes|vine|verified_purchase|\n",
            "+--------------+-----------+-------------+-----------+----+-----------------+\n",
            "|R15RUMO9UBZ4RK|          4|            0|          0|   N|                Y|\n",
            "| R82KK9VVQPR60|          2|            0|          0|   N|                Y|\n",
            "|R3BRM9YAPUUFOI|          5|            1|          1|   N|                Y|\n",
            "|R18M6JWDUB4QZX|          5|            0|          0|   N|                Y|\n",
            "|R36015CE2Q0MEH|          5|            0|          0|   N|                Y|\n",
            "|R1NRNWIQBRTRRY|          5|            0|          0|   N|                Y|\n",
            "| RE1CN1JMPQCSJ|          5|            0|          0|   N|                Y|\n",
            "|R3VCRSXMSJEXYI|          4|            0|          0|   N|                Y|\n",
            "| RZ5DTD6Q7URBK|          5|            0|          0|   N|                Y|\n",
            "|R35DFS8G6JRE12|          4|            0|          1|   N|                Y|\n",
            "|R3B4I656SX4JPC|          3|            1|          1|   N|                Y|\n",
            "| R1H9NELMZO2KP|          1|            2|          3|   N|                Y|\n",
            "| RIKP6A2GRIAQX|          4|            0|          0|   N|                Y|\n",
            "|R2TRP00FE24IF1|          5|            0|          0|   N|                Y|\n",
            "| RULNHAQ8EIBDX|          4|            0|          0|   N|                Y|\n",
            "|R18HSK2GCWP2RM|          1|            0|          0|   N|                Y|\n",
            "|R3H0CHGIKI3T8T|          2|            5|         10|   N|                N|\n",
            "|R146QDOB4YEL0N|          5|            0|          0|   N|                Y|\n",
            "|R2XL3T9472LLQJ|          1|            0|          4|   N|                N|\n",
            "| RY19XLKPOMJST|          1|            0|          0|   N|                Y|\n",
            "+--------------+-----------+-------------+-----------+----+-----------------+\n",
            "only showing top 20 rows\n",
            "\n"
          ],
          "name": "stdout"
        }
      ]
    },
    {
      "cell_type": "code",
      "metadata": {
        "colab": {
          "base_uri": "https://localhost:8080/"
        },
        "id": "5ObqNGHpGQ2F",
        "outputId": "f1c74ea1-1cde-4bf8-eb44-d7971df49b24"
      },
      "source": [
        "# Filter Dataframe for total_votes greater than 20\r\n",
        "vote_20_df=vine_df.filter(vine_df.total_votes>=20)\r\n",
        "vote_20_df.show()"
      ],
      "execution_count": 10,
      "outputs": [
        {
          "output_type": "stream",
          "text": [
            "+--------------+-----------+-------------+-----------+----+-----------------+\n",
            "|     review_id|star_rating|helpful_votes|total_votes|vine|verified_purchase|\n",
            "+--------------+-----------+-------------+-----------+----+-----------------+\n",
            "|R1PD5YTU6HJMQA|          1|            0|         24|   N|                N|\n",
            "|R104OBYLJ6UBFB|          1|           14|         22|   N|                Y|\n",
            "|R2OXUUOSXHYQ13|          1|            4|         31|   N|                Y|\n",
            "| R4NE1F0DEFVNK|          5|           30|         89|   N|                N|\n",
            "|R24CALEW9UCXO6|          1|           21|         22|   N|                N|\n",
            "|R2T0SEKG379S3O|          1|            3|         25|   N|                Y|\n",
            "|R3HUPV7MRE5LLT|          1|           41|         46|   N|                N|\n",
            "|R3Q53V8VUGECR7|          3|           46|         92|   N|                Y|\n",
            "|R1Y4P07NRA7ZSL|          1|           26|        349|   N|                Y|\n",
            "|R3DPAQTP4A27OG|          1|           64|         74|   N|                Y|\n",
            "| RHQN2K54NUBG1|          3|           32|         37|   N|                N|\n",
            "| RUNSXNUAESPZ9|          5|           25|         26|   N|                Y|\n",
            "|R1DFY65UMMEMNJ|          5|           30|         30|   N|                Y|\n",
            "|R35Z7ZU33OJN0F|          1|            2|         22|   N|                Y|\n",
            "| R9JFSFCZBP05E|          4|           14|         20|   N|                N|\n",
            "| RUQ735GE4DZHF|          4|            7|         35|   N|                N|\n",
            "| RT00AOMKRSASY|          5|            4|         23|   N|                N|\n",
            "| RY2WLNZ0J463W|          1|            7|         24|   N|                N|\n",
            "|R11BM1NNZU6IBF|          3|            2|         20|   N|                N|\n",
            "|R3DEQDS41493O8|          5|           83|        146|   N|                N|\n",
            "+--------------+-----------+-------------+-----------+----+-----------------+\n",
            "only showing top 20 rows\n",
            "\n"
          ],
          "name": "stdout"
        }
      ]
    },
    {
      "cell_type": "code",
      "metadata": {
        "colab": {
          "base_uri": "https://localhost:8080/"
        },
        "id": "D5yI5dB9G5At",
        "outputId": "cbd10c60-1800-4647-e880-c4654d448b18"
      },
      "source": [
        "#Filter Dataframe to retrieve all rows where hte number of helpful_votes divided by total_votes is equal or greater than 50%\r\n",
        "helpful_50_df=vote_20_df.filter((vote_20_df.helpful_votes/vote_20_df.total_votes) >= 0.5)\r\n",
        "helpful_50_df.show()"
      ],
      "execution_count": 14,
      "outputs": [
        {
          "output_type": "stream",
          "text": [
            "+--------------+-----------+-------------+-----------+----+-----------------+\n",
            "|     review_id|star_rating|helpful_votes|total_votes|vine|verified_purchase|\n",
            "+--------------+-----------+-------------+-----------+----+-----------------+\n",
            "|R104OBYLJ6UBFB|          1|           14|         22|   N|                Y|\n",
            "|R24CALEW9UCXO6|          1|           21|         22|   N|                N|\n",
            "|R3HUPV7MRE5LLT|          1|           41|         46|   N|                N|\n",
            "|R3Q53V8VUGECR7|          3|           46|         92|   N|                Y|\n",
            "|R3DPAQTP4A27OG|          1|           64|         74|   N|                Y|\n",
            "| RHQN2K54NUBG1|          3|           32|         37|   N|                N|\n",
            "| RUNSXNUAESPZ9|          5|           25|         26|   N|                Y|\n",
            "|R1DFY65UMMEMNJ|          5|           30|         30|   N|                Y|\n",
            "| R9JFSFCZBP05E|          4|           14|         20|   N|                N|\n",
            "|R3DEQDS41493O8|          5|           83|        146|   N|                N|\n",
            "|R11LYLNTVTOLVP|          1|           49|         51|   N|                N|\n",
            "| RW4T7Z0I3IMIY|          1|           26|         33|   N|                N|\n",
            "|R1PRC48TJXW11X|          1|           16|         24|   N|                N|\n",
            "|R1OYROJM30CJXG|          3|           24|         24|   N|                Y|\n",
            "|R2WD1ACHT8TJ4V|          1|           16|         31|   N|                Y|\n",
            "|R296WSUBEZI4TT|          5|           18|         21|   N|                Y|\n",
            "|R1A0ESHUTLYUXO|          5|           20|         27|   N|                Y|\n",
            "|R3VNBUO73LYV2X|          5|           22|         26|   N|                N|\n",
            "|R18A1ESH3NQMQG|          3|           41|         51|   N|                N|\n",
            "|R35NIE08803MZY|          5|           33|         35|   N|                Y|\n",
            "+--------------+-----------+-------------+-----------+----+-----------------+\n",
            "only showing top 20 rows\n",
            "\n"
          ],
          "name": "stdout"
        }
      ]
    },
    {
      "cell_type": "code",
      "metadata": {
        "colab": {
          "base_uri": "https://localhost:8080/"
        },
        "id": "o_hM0v0aH6a2",
        "outputId": "8afe420d-b9ad-46e7-e92a-e4b20d734837"
      },
      "source": [
        "#Create dataframe that retrieves all rows where a review was written as part of the Vine Program (paid)\r\n",
        "vine_paid_df=helpful_50_df.filter(helpful_50_df.vine =='Y')\r\n",
        "vine_paid_df.show()"
      ],
      "execution_count": 17,
      "outputs": [
        {
          "output_type": "stream",
          "text": [
            "+---------+-----------+-------------+-----------+----+-----------------+\n",
            "|review_id|star_rating|helpful_votes|total_votes|vine|verified_purchase|\n",
            "+---------+-----------+-------------+-----------+----+-----------------+\n",
            "+---------+-----------+-------------+-----------+----+-----------------+\n",
            "\n"
          ],
          "name": "stdout"
        }
      ]
    },
    {
      "cell_type": "code",
      "metadata": {
        "colab": {
          "base_uri": "https://localhost:8080/"
        },
        "id": "7luTD6IHKDsI",
        "outputId": "cf424765-428c-4461-cede-e36bd26302cc"
      },
      "source": [
        "#Create dataframe that retrieves all rows where a review was written as not part of the Vine Program (unpaid)\r\n",
        "vine_unpaid_df=helpful_50_df.filter(helpful_50_df.vine =='N')\r\n",
        "vine_unpaid_df.show()"
      ],
      "execution_count": 18,
      "outputs": [
        {
          "output_type": "stream",
          "text": [
            "+--------------+-----------+-------------+-----------+----+-----------------+\n",
            "|     review_id|star_rating|helpful_votes|total_votes|vine|verified_purchase|\n",
            "+--------------+-----------+-------------+-----------+----+-----------------+\n",
            "|R104OBYLJ6UBFB|          1|           14|         22|   N|                Y|\n",
            "|R24CALEW9UCXO6|          1|           21|         22|   N|                N|\n",
            "|R3HUPV7MRE5LLT|          1|           41|         46|   N|                N|\n",
            "|R3Q53V8VUGECR7|          3|           46|         92|   N|                Y|\n",
            "|R3DPAQTP4A27OG|          1|           64|         74|   N|                Y|\n",
            "| RHQN2K54NUBG1|          3|           32|         37|   N|                N|\n",
            "| RUNSXNUAESPZ9|          5|           25|         26|   N|                Y|\n",
            "|R1DFY65UMMEMNJ|          5|           30|         30|   N|                Y|\n",
            "| R9JFSFCZBP05E|          4|           14|         20|   N|                N|\n",
            "|R3DEQDS41493O8|          5|           83|        146|   N|                N|\n",
            "|R11LYLNTVTOLVP|          1|           49|         51|   N|                N|\n",
            "| RW4T7Z0I3IMIY|          1|           26|         33|   N|                N|\n",
            "|R1PRC48TJXW11X|          1|           16|         24|   N|                N|\n",
            "|R1OYROJM30CJXG|          3|           24|         24|   N|                Y|\n",
            "|R2WD1ACHT8TJ4V|          1|           16|         31|   N|                Y|\n",
            "|R296WSUBEZI4TT|          5|           18|         21|   N|                Y|\n",
            "|R1A0ESHUTLYUXO|          5|           20|         27|   N|                Y|\n",
            "|R3VNBUO73LYV2X|          5|           22|         26|   N|                N|\n",
            "|R18A1ESH3NQMQG|          3|           41|         51|   N|                N|\n",
            "|R35NIE08803MZY|          5|           33|         35|   N|                Y|\n",
            "+--------------+-----------+-------------+-----------+----+-----------------+\n",
            "only showing top 20 rows\n",
            "\n"
          ],
          "name": "stdout"
        }
      ]
    },
    {
      "cell_type": "code",
      "metadata": {
        "colab": {
          "base_uri": "https://localhost:8080/"
        },
        "id": "rh2nnMGYKnrK",
        "outputId": "2ba25c19-7806-4b55-e2e8-cba50715b172"
      },
      "source": [
        "#Vine Statistics\r\n",
        "\r\n",
        "#Vine Total number of review\r\n",
        "vine_total=helpful_50_df.count()\r\n",
        "vine_total"
      ],
      "execution_count": 19,
      "outputs": [
        {
          "output_type": "execute_result",
          "data": {
            "text/plain": [
              "1685"
            ]
          },
          "metadata": {
            "tags": []
          },
          "execution_count": 19
        }
      ]
    },
    {
      "cell_type": "code",
      "metadata": {
        "colab": {
          "base_uri": "https://localhost:8080/"
        },
        "id": "IbiqnMlyLDVS",
        "outputId": "d8bdab51-eeb7-49e4-df04-c9aa8adcdf86"
      },
      "source": [
        "#The Number of 5-star review\r\n",
        "five_star_review= helpful_50_df.filter(helpful_50_df.star_rating ==5).count()\r\n",
        "five_star_review"
      ],
      "execution_count": 21,
      "outputs": [
        {
          "output_type": "execute_result",
          "data": {
            "text/plain": [
              "631"
            ]
          },
          "metadata": {
            "tags": []
          },
          "execution_count": 21
        }
      ]
    },
    {
      "cell_type": "code",
      "metadata": {
        "colab": {
          "base_uri": "https://localhost:8080/"
        },
        "id": "UTyE6JyHLYvc",
        "outputId": "b5572491-3a17-4d72-f1d1-b538c06247ff"
      },
      "source": [
        "#Total number of reviews with Vine\r\n",
        "vine_reviews= vine_paid_df.count()\r\n",
        "vine_reviews"
      ],
      "execution_count": 24,
      "outputs": [
        {
          "output_type": "execute_result",
          "data": {
            "text/plain": [
              "0"
            ]
          },
          "metadata": {
            "tags": []
          },
          "execution_count": 24
        }
      ]
    },
    {
      "cell_type": "code",
      "metadata": {
        "colab": {
          "base_uri": "https://localhost:8080/"
        },
        "id": "sx7_xOdTM4tH",
        "outputId": "0b1e6264-fed1-48b0-a0ad-d354ad670eb2"
      },
      "source": [
        "#The number of 5-star review with Vine review\r\n",
        "five_star_vine= vine_paid_df.filter(vine_paid_df.star_rating==5).count()\r\n",
        "five_star_vine"
      ],
      "execution_count": 25,
      "outputs": [
        {
          "output_type": "execute_result",
          "data": {
            "text/plain": [
              "0"
            ]
          },
          "metadata": {
            "tags": []
          },
          "execution_count": 25
        }
      ]
    },
    {
      "cell_type": "code",
      "metadata": {
        "colab": {
          "base_uri": "https://localhost:8080/"
        },
        "id": "X3eRkeGCNMmu",
        "outputId": "096a9ad5-b816-405f-fec8-7851269fb2a9"
      },
      "source": [
        "#Total number of reviews with no Vine\r\n",
        "no_vine_reviews=vine_unpaid_df.count()\r\n",
        "no_vine_reviews"
      ],
      "execution_count": 26,
      "outputs": [
        {
          "output_type": "execute_result",
          "data": {
            "text/plain": [
              "1685"
            ]
          },
          "metadata": {
            "tags": []
          },
          "execution_count": 26
        }
      ]
    },
    {
      "cell_type": "code",
      "metadata": {
        "colab": {
          "base_uri": "https://localhost:8080/"
        },
        "id": "J9yM4-MfNco_",
        "outputId": "eff332dc-f23b-4f6f-ba48-9e7869157ec8"
      },
      "source": [
        "#The number of 5-star review with no Vine review\r\n",
        "five_star_no_vine=vine_unpaid_df.filter(vine_unpaid_df.star_rating==5).count()\r\n",
        "five_star_no_vine"
      ],
      "execution_count": 27,
      "outputs": [
        {
          "output_type": "execute_result",
          "data": {
            "text/plain": [
              "631"
            ]
          },
          "metadata": {
            "tags": []
          },
          "execution_count": 27
        }
      ]
    },
    {
      "cell_type": "code",
      "metadata": {
        "colab": {
          "base_uri": "https://localhost:8080/"
        },
        "id": "ul-VHZ4RNzjc",
        "outputId": "8a749dd7-fe18-4a04-d121-73fcafba12a6"
      },
      "source": [
        "#Percentage of 5 star vine review\r\n",
        "vine_5star_percentage= (five_star_vine/five_star_review)*100\r\n",
        "vine_5star_percentage"
      ],
      "execution_count": 31,
      "outputs": [
        {
          "output_type": "execute_result",
          "data": {
            "text/plain": [
              "0.0"
            ]
          },
          "metadata": {
            "tags": []
          },
          "execution_count": 31
        }
      ]
    },
    {
      "cell_type": "code",
      "metadata": {
        "colab": {
          "base_uri": "https://localhost:8080/"
        },
        "id": "lIkRN8ECOVuf",
        "outputId": "50b313f7-30a6-4b64-dd50-c69a6b5236cf"
      },
      "source": [
        "#Percentage of 5 star no vine review\r\n",
        "No_vine_5star_percentage=(five_star_no_vine/no_vine_reviews)*100\r\n",
        "No_vine_5star_percentage"
      ],
      "execution_count": 41,
      "outputs": [
        {
          "output_type": "execute_result",
          "data": {
            "text/plain": [
              "37.448071216617215"
            ]
          },
          "metadata": {
            "tags": []
          },
          "execution_count": 41
        }
      ]
    },
    {
      "cell_type": "code",
      "metadata": {
        "colab": {
          "base_uri": "https://localhost:8080/"
        },
        "id": "LDA7u-9KPand",
        "outputId": "6b7c2e09-a347-4ab8-cb9e-6575dbd8cbd8"
      },
      "source": [
        "#Summary Statistics\r\n",
        "print(\"Total Reviews=\", vine_total)\r\n",
        "\r\n",
        "print(\"Total Vine Review= \", vine_reviews)\r\n",
        "print(\"Total Vine 5 Star Review=\", five_star_vine)\r\n",
        "print(\"Percentage of 5 star Vine Review= \", vine_5star_percentage)\r\n",
        "\r\n",
        "print(\"Total Non Vine Review= \", no_vine_reviews)\r\n",
        "print(\"Total Non Vine 5 Star Review= \", five_star_no_vine)\r\n",
        "print(\"Percentage of 5 Star No-Vine Review= \", No_vine_5star_percentage)"
      ],
      "execution_count": 42,
      "outputs": [
        {
          "output_type": "stream",
          "text": [
            "Total Reviews= 1685\n",
            "Total Vine Review=  0\n",
            "Total Vine 5 Star Review= 0\n",
            "Percentage of 5 star Vine Review=  0.0\n",
            "Total Non Vine Review=  1685\n",
            "Total Non Vine 5 Star Review=  631\n",
            "Percentage of 5 Star No-Vine Review=  37.448071216617215\n"
          ],
          "name": "stdout"
        }
      ]
    }
  ]
}